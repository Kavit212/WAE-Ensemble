{
  "nbformat": 4,
  "nbformat_minor": 0,
  "metadata": {
    "accelerator": "GPU",
    "colab": {
      "name": "Grad-CAM_EM.ipynb",
      "provenance": [],
      "collapsed_sections": [],
      "machine_shape": "hm",
      "mount_file_id": "1_j-suAnPJNHT33XC5JpkthRvwTnp8259",
      "authorship_tag": "ABX9TyMuImE5TI+5GyipEMvDJ90a",
      "include_colab_link": true
    },
    "kernelspec": {
      "display_name": "Python 3",
      "name": "python3"
    },
    "language_info": {
      "name": "python"
    }
  },
  "cells": [
    {
      "cell_type": "markdown",
      "metadata": {
        "id": "view-in-github",
        "colab_type": "text"
      },
      "source": [
        "<a href=\"https://colab.research.google.com/github/Kavit212/WAE-Ensemble/blob/main/Grad_CAM_EM.ipynb\" target=\"_parent\"><img src=\"https://colab.research.google.com/assets/colab-badge.svg\" alt=\"Open In Colab\"/></a>"
      ]
    },
    {
      "cell_type": "code",
      "metadata": {
        "colab": {
          "base_uri": "https://localhost:8080/"
        },
        "id": "Wm1Tc0d-1BIL",
        "outputId": "07fc68ef-5230-4062-9734-d397e33d3b52"
      },
      "source": [
        "\n",
        "from google.colab import drive\n",
        "drive.mount('/content/gdrive')"
      ],
      "execution_count": null,
      "outputs": [
        {
          "output_type": "stream",
          "name": "stdout",
          "text": [
            "Mounted at /content/gdrive\n"
          ]
        }
      ]
    },
    {
      "cell_type": "code",
      "metadata": {
        "id": "ZJlr-aXcdteA"
      },
      "source": [
        "!pip install tensorflow==1.14.0\n",
        "!pip install keras==2.2.4\n",
        "\n"
      ],
      "execution_count": null,
      "outputs": []
    },
    {
      "cell_type": "code",
      "metadata": {
        "id": "lo5tgnjn1v-6"
      },
      "source": [
        "\n",
        "!pip install git+https://github.com/Kavit212/SegGradCAM"
      ],
      "execution_count": null,
      "outputs": []
    },
    {
      "cell_type": "code",
      "metadata": {
        "id": "hptpptJ1G-GZ"
      },
      "source": [
        "!pip install h5py==2.10.0"
      ],
      "execution_count": null,
      "outputs": []
    },
    {
      "cell_type": "code",
      "metadata": {
        "id": "OjYpvX08qAQw"
      },
      "source": [
        "!pip install -U git+https://github.com/albu/albumentations --no-cache-dir"
      ],
      "execution_count": null,
      "outputs": []
    },
    {
      "cell_type": "code",
      "metadata": {
        "id": "UMvix98M1ybJ"
      },
      "source": [
        "import numpy as np\n",
        "import os\n",
        "import pathlib\n",
        "import sys\n",
        "import keras\n",
        "import datetime \n",
        "import json\n",
        "import collections\n",
        "import tqdm\n",
        "import imageio\n",
        "import scipy\n",
        "import operator\n",
        "import pandas as pd\n",
        "import cv2\n",
        "from keras import backend as K\n",
        "import skimage\n",
        "import csbdeep"
      ],
      "execution_count": null,
      "outputs": []
    },
    {
      "cell_type": "code",
      "metadata": {
        "id": "PDJ4gyUK2Fmh"
      },
      "source": [
        "print(np.__version__)\n",
        "#print(os.__version__)\n",
        "#print(pathlib.__version__)\n",
        "#print(sys.__version__)\n",
        "print(keras.__version__)\n",
        "#print(datetime .__version__)\n",
        "print(json.__version__)\n",
        "#print(collections.__version__)\n",
        "print(tqdm.__version__)\n",
        "print(imageio.__version__)\n",
        "print(scipy.__version__)\n",
        "#print(operator.__version__)\n",
        "print(pd.__version__)\n",
        "print(cv2.__version__)\n",
        "#print(K.__version__)\n",
        "print(skimage.__version__)\n",
        "print(csbdeep.__version__)"
      ],
      "execution_count": null,
      "outputs": []
    },
    {
      "cell_type": "code",
      "metadata": {
        "id": "oF9Kp-N02NoD"
      },
      "source": [
        "import tensorflow as tf"
      ],
      "execution_count": null,
      "outputs": []
    },
    {
      "cell_type": "code",
      "metadata": {
        "id": "xoN2T2Xl2Q8K"
      },
      "source": [
        "\n",
        "tf.__version__"
      ],
      "execution_count": null,
      "outputs": []
    },
    {
      "cell_type": "code",
      "metadata": {
        "id": "Ad-8VmvR2UaM"
      },
      "source": [
        "!git clone https://github.com/Kavit212/SegGradCAM"
      ],
      "execution_count": null,
      "outputs": []
    },
    {
      "cell_type": "code",
      "metadata": {
        "id": "qLEbl7fX2gPr"
      },
      "source": [
        "%cd SegGradCAM\n"
      ],
      "execution_count": null,
      "outputs": []
    },
    {
      "cell_type": "code",
      "metadata": {
        "id": "sFrophSe27YR"
      },
      "source": [
        "!pip install git+https://github.com/qubvel/segmentation_models"
      ],
      "execution_count": null,
      "outputs": []
    },
    {
      "cell_type": "code",
      "metadata": {
        "colab": {
          "base_uri": "https://localhost:8080/"
        },
        "id": "Mo6kT1wd2nxh",
        "outputId": "27dcc56f-fb47-4d08-ec28-820954ea2386"
      },
      "source": [
        "%load_ext autoreload\n",
        "%autoreload 2\n",
        "import warnings\n",
        "warnings.filterwarnings('ignore')\n",
        "import numpy as np\n",
        "import os\n",
        "os.environ['CUDA_VISIBLE_DEVICES'] = '0'\n",
        "from pathlib import Path\n",
        "import sys\n",
        "import matplotlib.pyplot as plt\n",
        "\n",
        "import segmentation_models as sm\n",
        "\n",
        "from seggradcam.dataloaders import Cityscapes\n",
        "#from metrics import iou_coef, dice_coef, dice_loss\n",
        "from seggradcam.unet import csbd_unet, manual_unet, TrainUnet\n",
        "from seggradcam.training_write import TrainingParameters, TrainingResults\n",
        "from seggradcam.training_plots import plot_predict_and_gt, plot_loss, plot_metric\n",
        "from seggradcam.seggradcam import SegGradCAM, SuperRoI, ClassRoI, PixelRoI, BiasRoI\n",
        "from seggradcam.visualize_sgc import SegGradCAMplot"
      ],
      "execution_count": null,
      "outputs": [
        {
          "output_type": "stream",
          "name": "stdout",
          "text": [
            "Segmentation Models: using `keras` framework.\n"
          ]
        }
      ]
    },
    {
      "cell_type": "code",
      "metadata": {
        "id": "fUxtVdMHB1G0"
      },
      "source": [
        "\n",
        "\n",
        "model.load_weights('/content/drive/MyDrive/GradCAM/best_model-Jurakat-vgg19-AUG.h5')\n",
        "\n",
        "\n",
        "\n",
        "\n"
      ],
      "execution_count": null,
      "outputs": []
    },
    {
      "cell_type": "code",
      "metadata": {
        "id": "7X2chCu6IHzn"
      },
      "source": [
        "#change layers according to loaded model\n",
        "\n",
        "prop_from_layer = model.layers[-1].name\n",
        "prop_to_layer = 'center_block2_relu'\n"
      ],
      "execution_count": null,
      "outputs": []
    },
    {
      "cell_type": "code",
      "metadata": {
        "id": "Jw53dHAmeAeI"
      },
      "source": [
        "  "
      ],
      "execution_count": null,
      "outputs": []
    },
    {
      "cell_type": "code",
      "metadata": {
        "id": "zQ5RVyPOIOsw"
      },
      "source": [
        "# class 0 = background\n",
        "# class 1 = cell membrane\n",
        "# class 2 = nucleus\n",
        "\n",
        "\n",
        "cls = 2  # background\n",
        "\n",
        "\n",
        "import cv2\n",
        "  \n",
        "# path\n",
        "path = r'/content/test_img/Gradcam test images/Jurkat.png'\n",
        "  \n",
        "# Using cv2.imread() method\n",
        "# Using 0 to read image in grayscale mode\n",
        "img = cv2.imread(path, 1)\n",
        "\n",
        "\n",
        "\n",
        "\n",
        "\n",
        "#Remove hash when normally processing\n",
        "#test_img_number = 1\n",
        "#test_img = X_test[test_img_number]\n",
        "\n",
        "test_img_norm=img[:,:,:]\n",
        "\n",
        "#test_img_norm=test_img[:,:,:]\n",
        "#test_img_input=np.expand_dims(test_img_norm, 0)\n",
        "image = preprocess_input(test_img_norm)\n",
        "#test_pred1 = model.predict(image)\n",
        "\n",
        "\n",
        "\n",
        "\n",
        "plt.figure(figsize=(12, 8))\n",
        "plt.title('Testing Image')\n",
        "#plt.imshow(test_img[:,:,0], cmap='gray')\n",
        "\n",
        "clsroi = ClassRoI(model=model,image=image,cls=cls)\n",
        "newsgc = SegGradCAM(model, image, cls, prop_to_layer,  prop_from_layer, roi=clsroi,\n",
        "                 normalize=True, abs_w=False, posit_w=False)\n",
        "\n",
        "newsgc.SGC()\n",
        "\n",
        "# create an object with plotting functionality\n",
        "plotter = SegGradCAMplot(newsgc,model=model,n_classes=n_classes)\n",
        "\n",
        "# plot explanations on 1 picture\n",
        "#plotter.explainClass()\n",
        "plotter.explainClass()\n"
      ],
      "execution_count": null,
      "outputs": []
    },
    {
      "cell_type": "code",
      "metadata": {
        "id": "vFANXWGOxaGt"
      },
      "source": [
        "# class 0 = background\n",
        "# class 1 = cell membrane\n",
        "# class 2 = nucleus\n",
        "\n",
        "\n",
        "cls = 0 # background\n",
        "\n",
        "\n",
        "test_img_number = 3\n",
        "test_img = X_test[test_img_number]\n",
        "test_img_norm=test_img[:,:,:]\n",
        "#test_img_input=np.expand_dims(test_img_norm, 0)\n",
        "image = preprocess_input(test_img_norm)\n",
        "#test_pred1 = model.predict(image)\n",
        "\n",
        "\n",
        "\n",
        "\n",
        "plt.figure(figsize=(12, 8))\n",
        "plt.title('Testing Image')\n",
        "plt.imshow(test_img[:,:,0], cmap='gray')\n",
        "\n",
        "clsroi = ClassRoI(model=model,image=image,cls=cls)\n",
        "newsgc = SegGradCAM(model, image, cls, prop_to_layer,  prop_from_layer, roi=clsroi,\n",
        "                 normalize=True, abs_w=False, posit_w=False)\n",
        "\n",
        "newsgc.SGC()\n",
        "\n",
        "# create an object with plotting functionality\n",
        "plotter = SegGradCAMplot(newsgc,model=model,n_classes=n_classes)\n",
        "\n",
        "# plot explanations on 1 picture\n",
        "#plotter.explainClass()\n",
        "plotter.explainClass()\n"
      ],
      "execution_count": null,
      "outputs": []
    }
  ]
}